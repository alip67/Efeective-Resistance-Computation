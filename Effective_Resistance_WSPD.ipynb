{
  "cells": [
    {
      "cell_type": "markdown",
      "id": "f9Q5bWg5sPQ_",
      "metadata": {
        "id": "f9Q5bWg5sPQ_"
      },
      "source": [
        "## Utils"
      ]
    },
    {
      "cell_type": "code",
      "execution_count": 1,
      "id": "AI_Zc5K9KhrN",
      "metadata": {
        "id": "AI_Zc5K9KhrN"
      },
      "outputs": [],
      "source": [
        "from Network import *"
      ]
    },
    {
      "cell_type": "code",
      "execution_count": 2,
      "id": "X7BfiQWlo_oi",
      "metadata": {
        "colab": {
          "base_uri": "https://localhost:8080/"
        },
        "id": "X7BfiQWlo_oi",
        "outputId": "d25d4ad1-5460-402d-ba1b-647541584c06"
      },
      "outputs": [
        {
          "name": "stdout",
          "output_type": "stream",
          "text": [
            "1.13.1+cu117\n"
          ]
        }
      ],
      "source": [
        "! python -c \"import torch; print(torch.__version__)\""
      ]
    },
    {
      "cell_type": "code",
      "execution_count": 3,
      "id": "5QoemF-xPH1k",
      "metadata": {
        "id": "5QoemF-xPH1k"
      },
      "outputs": [],
      "source": [
        "import matplotlib.pyplot as plt\n",
        "import networkx as nx\n",
        "import pydot\n",
        "from networkx.drawing.nx_pydot import graphviz_layout\n",
        "import numpy as np\n",
        "import wspd\n",
        "import time\n",
        "\n",
        "\n",
        "import torch\n",
        "import torch_geometric\n",
        "from torch_geometric.transforms import BaseTransform\n",
        "from torch_geometric.data.datapipes import functional_transform\n",
        "\n",
        "import networkx as nx\n",
        "from functools import reduce\n",
        "\n",
        "\n",
        "def make_binary_tree_graph(r, h):\n",
        "    T = nx.balanced_tree(r, h)\n",
        "    # print(\"Graph Nodes:\", list(T.nodes))\n",
        "    # print(\"Graph Edges:\", list(T.edges))\n",
        "    TT = nx.adjacency_matrix(T)\n",
        "    # print(\"Adjacency Matrix:\", TT.todense())\n",
        "\n",
        "    # pos = graphviz_layout(T, prog=\"dot\")\n",
        "    # nx.draw(T, pos)\n",
        "    # plt.show()\n",
        "\n",
        "    matrix = nx.linalg.graphmatrix.adjacency_matrix(T).todense()\n",
        "    print(type(matrix))\n",
        "    matrix = np.array(matrix).astype(float)\n",
        "    return matrix, T\n",
        "\n",
        "\n",
        "def make_2d_graph(m, n, periodic=False, return_pos=False):\n",
        "    network = nx.grid_2d_graph(m, n, periodic=False, create_using=None)\n",
        "    matrix = nx.linalg.graphmatrix.adjacency_matrix(network).todense()\n",
        "    matrix = np.array(matrix).astype(float)\n",
        "\n",
        "    pos = graphviz_layout(network, prog=\"dot\")\n",
        "    nx.draw(network, pos)\n",
        "    plt.show()\n",
        "\n",
        "    return matrix, network\n",
        "\n",
        "\n",
        "def make_path_graph(n):\n",
        "    parent = [i for i in range(n-1)]\n",
        "    children = [i+1 for i in range(n-1)]\n",
        "    external = [1, n]\n",
        "\n",
        "    P = nx.path_graph(n)\n",
        "\n",
        "    # print(\"Parent:\", parent)\n",
        "    # print(\"Children:\", children)\n",
        "    # print(\"External:\", external)\n",
        "    # print(\"Graph Nodes:\", list(P.nodes))\n",
        "    # print(\"Graph Edges:\", list(P.edges))\n",
        "    # Adj_P = nx.adjacency_matrix(P)\n",
        "    # print(\"Adjacency Matrix:\", Adj_P.todense())\n",
        "\n",
        "    pos = graphviz_layout(P, prog=\"dot\")\n",
        "    nx.draw(P, pos)\n",
        "    plt.show()\n",
        "\n",
        "\n",
        "    matrix = nx.linalg.graphmatrix.adjacency_matrix(P).todense()\n",
        "    Adj_P = np.array(matrix).astype(float)\n",
        "    # return Adj_P, parent, children, n, external\n",
        "    return Adj_P, P\n",
        "\n",
        "def calc_ef_embedding(graph):\n",
        "  laplacian = torch.tensor(nx.laplacian_matrix(graph).todense().astype(\"float\"))\n",
        "  pinv = torch.linalg.pinv(laplacian, hermitian=True)\n",
        "  squared_pinv = pinv @ pinv\n",
        "\n",
        "\n",
        "  # The entries resistance_matrix[s,t] are the effective resistance  between s and t.\n",
        "  pinv_diagonal = torch.diagonal(pinv)\n",
        "  resistance_matrix = pinv_diagonal.unsqueeze(0) + pinv_diagonal.unsqueeze(1) - 2*pinv\n",
        "  return resistance_matrix\n"
      ]
    },
    {
      "cell_type": "markdown",
      "id": "nfW_pZAAq4UQ",
      "metadata": {
        "id": "nfW_pZAAq4UQ"
      },
      "source": [
        "## Path"
      ]
    },
    {
      "cell_type": "code",
      "execution_count": 4,
      "id": "9pnvsGQUTIyh",
      "metadata": {
        "colab": {
          "base_uri": "https://localhost:8080/",
          "height": 516
        },
        "id": "9pnvsGQUTIyh",
        "outputId": "b5ff60fd-4747-4acc-daa7-aded8835334c"
      },
      "outputs": [
        {
          "name": "stderr",
          "output_type": "stream",
          "text": [
            "/tmp/ipykernel_182487/3698167580.py:63: DeprecationWarning: nx.nx_pydot.graphviz_layout depends on the pydot package, which hasknown issues and is not actively maintained. Consider usingnx.nx_agraph.graphviz_layout instead.\n",
            "\n",
            "See https://github.com/networkx/networkx/issues/5723\n",
            "  pos = graphviz_layout(P, prog=\"dot\")\n"
          ]
        },
        {
          "data": {
            "image/png": "[encoded data removed]",
            "text/plain": [
              "<Figure size 640x480 with 1 Axes>"
            ]
          },
          "metadata": {},
          "output_type": "display_data"
        }
      ],
      "source": [
        "n= 10\n",
        "adj_path, path_graph = make_path_graph(n)\n"
      ]
    },
    {
      "cell_type": "code",
      "execution_count": 6,
      "id": "3Oam1rR0r6xp",
      "metadata": {
        "id": "3Oam1rR0r6xp"
      },
      "outputs": [
        {
          "name": "stdout",
          "output_type": "stream",
          "text": [
            "tensor([[0.0000, 1.0000, 2.0000, 3.0000, 4.0000, 5.0000, 6.0000, 7.0000, 8.0000,\n",
            "         9.0000],\n",
            "        [1.0000, 0.0000, 1.0000, 2.0000, 3.0000, 4.0000, 5.0000, 6.0000, 7.0000,\n",
            "         8.0000],\n",
            "        [2.0000, 1.0000, 0.0000, 1.0000, 2.0000, 3.0000, 4.0000, 5.0000, 6.0000,\n",
            "         7.0000],\n",
            "        [3.0000, 2.0000, 1.0000, 0.0000, 1.0000, 2.0000, 3.0000, 4.0000, 5.0000,\n",
            "         6.0000],\n",
            "        [4.0000, 3.0000, 2.0000, 1.0000, 0.0000, 1.0000, 2.0000, 3.0000, 4.0000,\n",
            "         5.0000],\n",
            "        [5.0000, 4.0000, 3.0000, 2.0000, 1.0000, 0.0000, 1.0000, 2.0000, 3.0000,\n",
            "         4.0000],\n",
            "        [6.0000, 5.0000, 4.0000, 3.0000, 2.0000, 1.0000, 0.0000, 1.0000, 2.0000,\n",
            "         3.0000],\n",
            "        [7.0000, 6.0000, 5.0000, 4.0000, 3.0000, 2.0000, 1.0000, 0.0000, 1.0000,\n",
            "         2.0000],\n",
            "        [8.0000, 7.0000, 6.0000, 5.0000, 4.0000, 3.0000, 2.0000, 1.0000, 0.0000,\n",
            "         1.0000],\n",
            "        [9.0000, 8.0000, 7.0000, 6.0000, 5.0000, 4.0000, 3.0000, 2.0000, 1.0000,\n",
            "         0.0000]], dtype=torch.float64)\n"
          ]
        }
      ],
      "source": [
        "ef_embedding_path = calc_ef_embedding(path_graph)\n",
        "print(ef_embedding_path)"
      ]
    },
    {
      "cell_type": "code",
      "execution_count": 7,
      "id": "9d3c10c7",
      "metadata": {},
      "outputs": [
        {
          "data": {
            "text/plain": [
              "<function Tensor.type>"
            ]
          },
          "execution_count": 7,
          "metadata": {},
          "output_type": "execute_result"
        }
      ],
      "source": [
        "ef_embedding_path.type"
      ]
    },
    {
      "cell_type": "code",
      "execution_count": 15,
      "id": "aj4dXtLSfqB-",
      "metadata": {
        "colab": {
          "base_uri": "https://localhost:8080/",
          "height": 516
        },
        "id": "aj4dXtLSfqB-",
        "outputId": "0faf2453-e278-4742-9d23-6c078b873e34"
      },
      "outputs": [
        {
          "data": {
            "image/png": "[encoded data removed]",
            "text/plain": [
              "<Figure size 640x480 with 1 Axes>"
            ]
          },
          "metadata": {},
          "output_type": "display_data"
        }
      ],
      "source": [
        "n = 4\n",
        "m = 4\n",
        "adj_grid, grid_graph = make_2d_graph(n,m)"
      ]
    },
    {
      "cell_type": "code",
      "execution_count": 20,
      "id": "Ho4I-gr5TNEJ",
      "metadata": {
        "id": "Ho4I-gr5TNEJ"
      },
      "outputs": [],
      "source": [
        "network = Network(None, None, path_graph)"
      ]
    },
    {
      "cell_type": "code",
      "execution_count": 19,
      "id": "z2c16AZTThDu",
      "metadata": {
        "colab": {
          "base_uri": "https://localhost:8080/"
        },
        "id": "z2c16AZTThDu",
        "outputId": "2a48058e-ad39-4eb1-9616-f64262e9791c"
      },
      "outputs": [
        {
          "data": {
            "text/plain": [
              "<Network.Network at 0x7ac4edf869e0>"
            ]
          },
          "execution_count": 19,
          "metadata": {},
          "output_type": "execute_result"
        }
      ],
      "source": [
        "network"
      ]
    },
    {
      "cell_type": "code",
      "execution_count": 7,
      "id": "aXYvmtvwTEmw",
      "metadata": {
        "colab": {
          "base_uri": "https://localhost:8080/"
        },
        "id": "aXYvmtvwTEmw",
        "outputId": "83ff3a79-ae3b-4bd4-ff26-a8d01464ac4f"
      },
      "outputs": [
        {
          "name": "stdout",
          "output_type": "stream",
          "text": [
            "[1. 1. 1. 1. 1. 1. 1. 1. 1.]\n",
            "[[ 0.04743416  0.20554805  0.04743416 -0.11067972  0.04743416 -0.11067972\n",
            "   0.04743416 -0.11067972  0.04743416 -0.11067972]\n",
            " [ 0.23717082  0.39528471  0.23717082  0.07905694 -0.07905694 -0.23717082\n",
            "  -0.39528471 -0.23717082 -0.07905694  0.07905694]\n",
            " [-0.14230249 -0.30041638 -0.14230249 -0.30041638 -0.14230249  0.01581139\n",
            "   0.17392527  0.33203915  0.17392527  0.33203915]\n",
            " [-0.20554805 -0.04743416  0.11067972  0.2687936   0.11067972 -0.04743416\n",
            "   0.11067972 -0.04743416 -0.20554805 -0.04743416]\n",
            " [-0.07905694  0.07905694 -0.07905694  0.07905694 -0.07905694  0.07905694\n",
            "   0.23717082  0.07905694 -0.07905694 -0.23717082]\n",
            " [ 0.11067972  0.2687936   0.11067972 -0.04743416 -0.20554805 -0.36366193\n",
            "  -0.20554805 -0.04743416  0.11067972  0.2687936 ]\n",
            " [-0.23717082 -0.07905694  0.07905694 -0.07905694  0.07905694  0.23717082\n",
            "   0.07905694 -0.07905694  0.07905694 -0.07905694]\n",
            " [-0.33203915 -0.17392527 -0.33203915 -0.17392527 -0.01581139  0.14230249\n",
            "  -0.01581139  0.14230249  0.30041638  0.45853026]\n",
            " [-0.14230249 -0.30041638 -0.14230249  0.01581139 -0.14230249  0.01581139\n",
            "   0.17392527  0.01581139  0.17392527  0.33203915]\n",
            " [-0.01581139  0.14230249  0.30041638  0.14230249 -0.01581139 -0.17392527\n",
            "  -0.33203915 -0.17392527 -0.01581139  0.14230249]\n",
            " [ 0.33203915  0.17392527  0.33203915  0.17392527  0.01581139 -0.14230249\n",
            "  -0.30041638 -0.14230249 -0.30041638 -0.14230249]\n",
            " [-0.39528471 -0.23717082 -0.07905694  0.07905694 -0.07905694  0.07905694\n",
            "  -0.07905694  0.07905694  0.23717082  0.39528471]\n",
            " [-0.2687936  -0.11067972  0.04743416 -0.11067972  0.04743416  0.20554805\n",
            "   0.04743416 -0.11067972  0.04743416  0.20554805]\n",
            " [ 0.17392527  0.01581139 -0.14230249  0.01581139 -0.14230249  0.01581139\n",
            "  -0.14230249  0.01581139  0.17392527  0.01581139]\n",
            " [-0.45853026 -0.30041638 -0.14230249  0.01581139  0.17392527  0.33203915\n",
            "   0.17392527  0.01581139  0.17392527  0.01581139]\n",
            " [-0.04743416  0.11067972 -0.04743416  0.11067972 -0.04743416  0.11067972\n",
            "  -0.04743416 -0.20554805 -0.04743416  0.11067972]\n",
            " [ 0.17392527  0.01581139 -0.14230249  0.01581139 -0.14230249  0.01581139\n",
            "   0.17392527  0.01581139 -0.14230249  0.01581139]\n",
            " [-0.11067972  0.04743416  0.20554805  0.04743416 -0.11067972  0.04743416\n",
            "  -0.11067972  0.04743416 -0.11067972  0.04743416]\n",
            " [-0.14230249 -0.30041638 -0.14230249  0.01581139  0.17392527  0.01581139\n",
            "  -0.14230249  0.01581139  0.17392527  0.33203915]\n",
            " [ 0.07905694 -0.07905694 -0.23717082 -0.07905694  0.07905694 -0.07905694\n",
            "   0.07905694 -0.07905694  0.07905694  0.23717082]\n",
            " [ 0.23717082  0.07905694 -0.07905694  0.07905694  0.23717082  0.07905694\n",
            "  -0.07905694 -0.23717082 -0.07905694 -0.23717082]\n",
            " [-0.30041638 -0.14230249  0.01581139  0.17392527  0.33203915  0.17392527\n",
            "   0.01581139 -0.14230249  0.01581139 -0.14230249]\n",
            " [ 0.20554805  0.04743416 -0.11067972  0.04743416  0.20554805  0.04743416\n",
            "  -0.11067972 -0.2687936  -0.11067972  0.04743416]\n",
            " [-0.14230249  0.01581139 -0.14230249 -0.30041638 -0.14230249  0.01581139\n",
            "   0.17392527  0.33203915  0.17392527  0.01581139]\n",
            " [-0.33203915 -0.17392527 -0.01581139 -0.17392527 -0.01581139 -0.17392527\n",
            "  -0.01581139  0.14230249  0.30041638  0.45853026]\n",
            " [-0.07905694 -0.23717082 -0.07905694 -0.23717082 -0.07905694  0.07905694\n",
            "  -0.07905694  0.07905694  0.23717082  0.39528471]\n",
            " [ 0.39528471  0.55339859  0.39528471  0.23717082  0.07905694 -0.07905694\n",
            "  -0.23717082 -0.39528471 -0.55339859 -0.39528471]\n",
            " [-0.11067972  0.04743416 -0.11067972 -0.2687936  -0.11067972  0.04743416\n",
            "   0.20554805  0.04743416  0.20554805  0.04743416]\n",
            " [ 0.04743416 -0.11067972 -0.2687936  -0.42690748 -0.2687936  -0.11067972\n",
            "   0.04743416  0.20554805  0.36366193  0.52177581]\n",
            " [ 0.14230249  0.30041638  0.14230249  0.30041638  0.14230249 -0.01581139\n",
            "  -0.17392527 -0.33203915 -0.17392527 -0.33203915]\n",
            " [-0.01581139 -0.17392527 -0.01581139  0.14230249  0.30041638  0.14230249\n",
            "  -0.01581139 -0.17392527 -0.01581139 -0.17392527]\n",
            " [ 0.17392527  0.01581139  0.17392527  0.01581139  0.17392527  0.01581139\n",
            "  -0.14230249 -0.30041638 -0.14230249  0.01581139]\n",
            " [-0.14230249 -0.30041638 -0.14230249  0.01581139  0.17392527  0.01581139\n",
            "  -0.14230249  0.01581139  0.17392527  0.33203915]\n",
            " [-0.36366193 -0.20554805 -0.36366193 -0.20554805 -0.04743416  0.11067972\n",
            "   0.2687936   0.42690748  0.2687936   0.11067972]\n",
            " [-0.07905694 -0.23717082 -0.07905694  0.07905694 -0.07905694 -0.23717082\n",
            "  -0.07905694  0.07905694  0.23717082  0.39528471]\n",
            " [-0.2687936  -0.11067972  0.04743416  0.20554805  0.04743416 -0.11067972\n",
            "   0.04743416  0.20554805  0.04743416 -0.11067972]\n",
            " [ 0.33203915  0.17392527  0.01581139  0.17392527  0.01581139 -0.14230249\n",
            "  -0.30041638 -0.14230249  0.01581139 -0.14230249]\n",
            " [ 0.39528471  0.23717082  0.39528471  0.23717082  0.07905694 -0.07905694\n",
            "  -0.23717082 -0.39528471 -0.23717082 -0.39528471]\n",
            " [ 0.33203915  0.17392527  0.01581139  0.17392527  0.01581139 -0.14230249\n",
            "   0.01581139 -0.14230249 -0.30041638 -0.14230249]\n",
            " [ 0.14230249 -0.01581139  0.14230249  0.30041638  0.14230249 -0.01581139\n",
            "  -0.17392527 -0.33203915 -0.17392527 -0.01581139]]\n"
          ]
        }
      ],
      "source": [
        "network = Network(None, None, path_graph)\n",
        "epsilon=0.1\n",
        "method='spl' #spl #ext\n",
        "Effective_R , Z_embedding = network.effR(epsilon, method)\n",
        "print(Effective_R)\n",
        "print(Z_embedding)"
      ]
    },
    {
      "cell_type": "code",
      "execution_count": 11,
      "id": "7d3cf351",
      "metadata": {},
      "outputs": [
        {
          "data": {
            "text/plain": [
              "(10, 40)"
            ]
          },
          "execution_count": 11,
          "metadata": {},
          "output_type": "execute_result"
        }
      ],
      "source": [
        "Z_emb_T = Z_embedding.transpose()\n",
        "Z_emb_T.shape"
      ]
    },
    {
      "cell_type": "code",
      "execution_count": 12,
      "id": "6EvKmnHmq-Xg",
      "metadata": {
        "id": "6EvKmnHmq-Xg"
      },
      "outputs": [],
      "source": [
        "def get_and_add_box(dumbell_indices,boxes,data, i):\n",
        "    l,r = dumbell_indices[i]\n",
        "    # loop loop loop loop\n",
        "    lbox = np.array([[min(x),max(x)] for x in data[l].T]).T\n",
        "    rbox = np.array([[min(x),max(x)] for x in data[r].T]).T\n",
        "    boxes.append([lbox,rbox])\n",
        "\n",
        "def compute_centers(boxes, lcenters, rcenters, i):\n",
        "    lc, rc = boxes[i]\n",
        "    lcenters.append( (lc[0,:] + lc[1,:])/2)\n",
        "    rcenters.append( (rc[0,:] + rc[1,:])/2)"
      ]
    },
    {
      "cell_type": "code",
      "execution_count": 13,
      "id": "PNVhfzRorTdp",
      "metadata": {
        "colab": {
          "base_uri": "https://localhost:8080/",
          "height": 228
        },
        "id": "PNVhfzRorTdp",
        "outputId": "6481db08-272c-4536-c43b-911e87b73202"
      },
      "outputs": [
        {
          "name": "stdout",
          "output_type": "stream",
          "text": [
            "number of points: 10\n",
            "point dimension: 40\n",
            "WSPD construction in  0.0012 seconds and size 35\n",
            "[([3], [2]), ([3], [4]), ([2], [4]), ([1], [0]), ([3], [1]), ([2], [1]), ([3], [0]), ([2], [0]), ([4], [1]), ([4], [0]), ([7], [6]), ([7], [5]), ([6], [5]), ([8], [9]), ([7], [8]), ([6], [8]), ([7], [9]), ([6], [9]), ([5], [8]), ([5], [9]), ([3], [7]), ([3], [6]), ([2], [7, 6]), ([4], [7]), ([4], [6]), ([3], [5]), ([2], [5]), ([4], [5]), ([1, 0], [7, 6]), ([1], [5]), ([0], [5]), ([3, 2], [8, 9]), ([4], [8]), ([4], [9]), ([1, 0], [8, 9])]\n"
          ]
        }
      ],
      "source": [
        "S = 2.0 # separation constant\n",
        "\n",
        "# Don't provide multiple copies of the same point in the data. The copies will get anyways removed in build_wspd() call.\n",
        "data = np.array(Z_emb_T)\n",
        "data_pts = data.tolist()\n",
        "\n",
        "\n",
        "nr_pts = len(data_pts) # number of points\n",
        "print(\"number of points: \" f'{nr_pts}')\n",
        "dim = len(data_pts[0]) # point dimension\n",
        "print(\"point dimension: \" f'{dim}')\n",
        "\n",
        "data_pts = [wspd.point(p) for p in data_pts] # move points to point class objects\n",
        "\n",
        "tic = time.perf_counter()\n",
        "dumbells = wspd.build_wspd(nr_pts, dim, S, data_pts) # compute WSPD\n",
        "toc = time.perf_counter()\n",
        "\n",
        "print(f\"WSPD construction in  {toc - tic:0.4f} seconds and size {len(dumbells)}\")\n",
        "print(dumbells)"
      ]
    },
    {
      "cell_type": "markdown",
      "id": "gYdi_1YLrCkm",
      "metadata": {
        "id": "gYdi_1YLrCkm"
      },
      "source": [
        "## Grid"
      ]
    },
    {
      "cell_type": "code",
      "execution_count": null,
      "id": "XMDX5NzUTIWM",
      "metadata": {
        "colab": {
          "base_uri": "https://localhost:8080/",
          "height": 585
        },
        "id": "XMDX5NzUTIWM",
        "outputId": "2272f3ab-7d6b-4d84-d02f-0a460b6a3169"
      },
      "outputs": [
        {
          "name": "stderr",
          "output_type": "stream",
          "text": [
            "<ipython-input-27-72dc02e35509>:39: DeprecationWarning: nx.nx_pydot.graphviz_layout depends on the pydot package, which has known issues and is not actively maintained. Consider using nx.nx_agraph.graphviz_layout instead.\n",
            "\n",
            "See https://github.com/networkx/networkx/issues/5723\n",
            "  pos = graphviz_layout(network, prog=\"dot\")\n"
          ]
        },
        {
          "data": {
            "image/png": "[encoded data removed]",
            "text/plain": [
              "<Figure size 640x480 with 1 Axes>"
            ]
          },
          "metadata": {},
          "output_type": "display_data"
        }
      ],
      "source": [
        "n = 3\n",
        "m = 3\n",
        "adj_grid, grid_graph = make_2d_graph(n,m)"
      ]
    },
    {
      "cell_type": "code",
      "execution_count": null,
      "id": "9MZ-N2GFAz6o",
      "metadata": {
        "colab": {
          "base_uri": "https://localhost:8080/"
        },
        "id": "9MZ-N2GFAz6o",
        "outputId": "99a907e3-3c67-4f3d-9949-1b830bf9cf8c"
      },
      "outputs": [
        {
          "name": "stdout",
          "output_type": "stream",
          "text": [
            "tensor([[0.0000, 0.7083, 1.2500, 0.7083, 0.8750, 1.2083, 1.2500, 1.2083, 1.5000],\n",
            "        [0.7083, 0.0000, 0.7083, 0.8333, 0.5833, 0.8333, 1.2083, 1.0000, 1.2083],\n",
            "        [1.2500, 0.7083, 0.0000, 1.2083, 0.8750, 0.7083, 1.5000, 1.2083, 1.2500],\n",
            "        [0.7083, 0.8333, 1.2083, 0.0000, 0.5833, 1.0000, 0.7083, 0.8333, 1.2083],\n",
            "        [0.8750, 0.5833, 0.8750, 0.5833, 0.0000, 0.5833, 0.8750, 0.5833, 0.8750],\n",
            "        [1.2083, 0.8333, 0.7083, 1.0000, 0.5833, 0.0000, 1.2083, 0.8333, 0.7083],\n",
            "        [1.2500, 1.2083, 1.5000, 0.7083, 0.8750, 1.2083, 0.0000, 0.7083, 1.2500],\n",
            "        [1.2083, 1.0000, 1.2083, 0.8333, 0.5833, 0.8333, 0.7083, 0.0000, 0.7083],\n",
            "        [1.5000, 1.2083, 1.2500, 1.2083, 0.8750, 0.7083, 1.2500, 0.7083, 0.0000]],\n",
            "       dtype=torch.float64)\n"
          ]
        }
      ],
      "source": [
        "\n",
        "ef_embedding_grid = calc_ef_embedding(grid_graph)\n",
        "print(ef_embedding_grid)"
      ]
    },
    {
      "cell_type": "code",
      "execution_count": null,
      "id": "VO28ynbNX-_4",
      "metadata": {
        "id": "VO28ynbNX-_4"
      },
      "outputs": [],
      "source": [
        "import numpy as np\n",
        "\n",
        "def get_and_add_box(dumbell_indices,boxes,data, i):\n",
        "    l,r = dumbell_indices[i]\n",
        "    # loop loop loop loop\n",
        "    lbox = np.array([[min(x),max(x)] for x in data[l].T]).T\n",
        "    rbox = np.array([[min(x),max(x)] for x in data[r].T]).T\n",
        "    boxes.append([lbox,rbox])\n",
        "\n",
        "def compute_centers(boxes, lcenters, rcenters, i):\n",
        "    lc, rc = boxes[i]\n",
        "    lcenters.append( (lc[0,:] + lc[1,:])/2)\n",
        "    rcenters.append( (rc[0,:] + rc[1,:])/2)"
      ]
    },
    {
      "cell_type": "code",
      "execution_count": null,
      "id": "cE5z7ihuYJ1k",
      "metadata": {
        "colab": {
          "base_uri": "https://localhost:8080/"
        },
        "id": "cE5z7ihuYJ1k",
        "outputId": "08b0c37e-02d8-402e-aed6-ebecfaaabfdd"
      },
      "outputs": [
        {
          "name": "stdout",
          "output_type": "stream",
          "text": [
            "number of points: 9\n",
            "point dimension: 9\n",
            "WSPD construction in  0.0003 seconds and size 36\n",
            "[([8], [7]), ([8], [4]), ([7], [4]), ([8], [6]), ([7], [6]), ([4], [6]), ([5], [2]), ([8], [5]), ([8], [2]), ([7], [5]), ([7], [2]), ([4], [5]), ([4], [2]), ([6], [5]), ([6], [2]), ([0], [3]), ([0], [1]), ([3], [1]), ([8], [0]), ([8], [3]), ([7], [0]), ([7], [3]), ([8], [1]), ([7], [1]), ([4], [0]), ([4], [3]), ([4], [1]), ([6], [0]), ([6], [3]), ([6], [1]), ([5], [0]), ([5], [3]), ([2], [0]), ([2], [3]), ([5], [1]), ([2], [1])]\n"
          ]
        }
      ],
      "source": [
        "S = 2.0 # separation constant\n",
        "\n",
        "# Don't provide multiple copies of the same point in the data. The copies will get anyways removed in build_wspd() call.\n",
        "data = np.array(ef_embedding_grid)\n",
        "data_pts = data.tolist()\n",
        "\n",
        "nr_pts = len(data_pts) # number of points\n",
        "print(\"number of points: \" f'{nr_pts}')\n",
        "dim = len(data_pts[0]) # point dimension\n",
        "print(\"point dimension: \" f'{dim}')\n",
        "\n",
        "data_pts = [wspd.point(p) for p in data_pts] # move points to point class objects\n",
        "\n",
        "tic = time.perf_counter()\n",
        "dumbells = wspd.build_wspd(nr_pts, dim, S, data_pts) # compute WSPD\n",
        "toc = time.perf_counter()\n",
        "\n",
        "print(f\"WSPD construction in  {toc - tic:0.4f} seconds and size {len(dumbells)}\")\n",
        "print(dumbells)"
      ]
    }
  ],
  "metadata": {
    "colab": {
      "collapsed_sections": [
        "f9Q5bWg5sPQ_"
      ],
      "provenance": []
    },
    "kernelspec": {
      "display_name": "Python 3 (ipykernel)",
      "language": "python",
      "name": "python3"
    },
    "language_info": {
      "codemirror_mode": {
        "name": "ipython",
        "version": 3
      },
      "file_extension": ".py",
      "mimetype": "text/x-python",
      "name": "python",
      "nbconvert_exporter": "python",
      "pygments_lexer": "ipython3",
      "version": "3.8.17"
    }
  },
  "nbformat": 4,
  "nbformat_minor": 5
}
